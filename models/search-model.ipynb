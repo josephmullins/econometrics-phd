{
 "cells": [
  {
   "cell_type": "markdown",
   "metadata": {},
   "source": [
    "# Simple Search Model\n",
    "\n",
    "In class we discuss the solution and identification of this simple model of undirected search. Time is discrete and indexed by $t$ over an infinite horizon. Workers move between employment and unemployment, have linear utility and cannot save. Let us review the parameters of the model:\n",
    "\n",
    "| Parameter | Description | \n",
    "| --------- | ------------|\n",
    "| $\\lambda$ | The probability an unemployed worker receives a job offer | \n",
    "| $\\delta$  | The probability an employed worker loses their job | \n",
    "| $F_{W}$   | The distribution of wage offers | \n",
    "| $1-\\beta$   | The exponential rate of discounting | \n",
    "| $b$       | Per-period utility when unemployed | \n",
    "\n",
    "## Model solution\n",
    "\n",
    "In class we showed that the optimal decision rule of the worker is characterized by a reservation wage. We derived the reservation wage equation:\n",
    "\n",
    "$$ w^* = b + \\beta\\lambda\\int_{w^*}\\frac{1-F_{W}(w)}{1 + \\beta(1-\\delta)}dw $$\n",
    "\n",
    "and we characterized the steady state rate of unemployment as:\n",
    "\n",
    "$$ P[E = 0] = \\frac{h}{h+\\delta} $$\n",
    "\n",
    "where $h = \\lambda(1-F_{W}(w^*))$ is the rate at which workers exit unemployment. \n",
    "\n",
    "Similarly, we should that the steady state fraction of unemployment durations $t$ is\n",
    "\n",
    "$$ P[t_{U}=t] = h(1-h)^{t} $$\n",
    "\n",
    "Let's write some code to solve the reservation wage equation, starting with code to evalute the equation below:"
   ]
  },
  {
   "cell_type": "code",
   "execution_count": 7,
   "metadata": {},
   "outputs": [
    {
     "data": {
      "text/plain": [
       "-1.1807330206199615"
      ]
     },
     "execution_count": 7,
     "metadata": {},
     "output_type": "execute_result"
    }
   ],
   "source": [
    "using Distributions, QuadGK\n",
    "\n",
    "# this function evaluates the reservation wage equation\n",
    "res_wage(wres ; b,λ,δ,β,F::Distribution) = wres - b - β * λ * quadgk(x->1-cdf(F,x),wres,Inf)[1]\n",
    "pars = (;b = 0.5,λ = 0.5,δ = 0.03,β = 0.95,F = LogNormal(1,1))\n",
    "res_wage(1. ; pars...)"
   ]
  },
  {
   "cell_type": "markdown",
   "metadata": {},
   "source": [
    "The most straightforward way to solve for the reservation wage would be to use a root-finding method here. Since we have used `Optim` already, let's just go ahead and use that package:"
   ]
  },
  {
   "cell_type": "code",
   "execution_count": 12,
   "metadata": {},
   "outputs": [
    {
     "data": {
      "text/plain": [
       "1.873687807092726"
      ]
     },
     "execution_count": 12,
     "metadata": {},
     "output_type": "execute_result"
    }
   ],
   "source": [
    "using Optim\n",
    "function solve_res_wage(pars)\n",
    "    (;F) = pars\n",
    "    w_lb = quantile(F,0.001) #<- get a lower and upper bound for the solution\n",
    "    w_ub = quantile(F,0.999)\n",
    "    r = optimize(x->res_wage(x;pars...)^2,w_lb,w_ub)\n",
    "    return r.minimizer\n",
    "end\n",
    "rwage = solve_res_wage(pars)\n"
   ]
  }
 ],
 "metadata": {
  "kernelspec": {
   "display_name": "Julia 1.8.1",
   "language": "julia",
   "name": "julia-1.8"
  },
  "language_info": {
   "file_extension": ".jl",
   "mimetype": "application/julia",
   "name": "julia",
   "version": "1.8.1"
  },
  "orig_nbformat": 4
 },
 "nbformat": 4,
 "nbformat_minor": 2
}
