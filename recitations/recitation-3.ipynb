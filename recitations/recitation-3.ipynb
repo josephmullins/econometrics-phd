{
 "cells": [
  {
   "cell_type": "markdown",
   "metadata": {},
   "source": [
    "# Recitation 3\n",
    "\n",
    "In this recitation we'll do some maximum likelihood exercises using the simple probit model. First let's write code to simulate data from this model and calculate the likelihood of the data given a set of parameters.\n",
    "\n",
    "Recall that the probit model can be written as:\n",
    "\n",
    "$$ Y_{n} = \\mathbf{1}\\{X_{n}\\beta - \\epsilon_{n} \\geq 0 \\},\\ \\epsilon\\sim \\mathcal{N}(0,1) $$\n",
    "\n",
    "So it will be simple to simulate data from this model. We'll assume that $X_{n} = [1 X_{n,1} X_{n,2}]$ where each $X_{n,j}$ is distributed as a standard normal.\n",
    "\n",
    "For no good reason other than that we want to explore the issues later on, suppose that the parameters $\\beta_{1},\\beta_{2},\\beta_{3}$ are a function of deeper structural parameters $\\gamma$:\n",
    "\n",
    "$$ \\beta_{1} = \\exp(\\gamma_{1}+\\gamma_{2}), \\beta_{2} = \\gamma_{2}, \\beta_{3} = \\gamma_{1} $$\n",
    "\n",
    "So our objective is to simply"
   ]
  },
  {
   "cell_type": "code",
   "execution_count": 31,
   "metadata": {},
   "outputs": [],
   "source": [
    "using Distributions, ForwardDiff, Optim, Random, LinearAlgebra, Plots"
   ]
  },
  {
   "cell_type": "code",
   "execution_count": 32,
   "metadata": {},
   "outputs": [
    {
     "data": {
      "text/plain": [
       "log_likelihood (generic function with 2 methods)"
      ]
     },
     "execution_count": 32,
     "metadata": {},
     "output_type": "execute_result"
    }
   ],
   "source": [
    "function simulate_probit(β,N)\n",
    "    F = Normal()\n",
    "    X = [ones(N) rand(F,N,2)]\n",
    "    eps = rand(F,N)\n",
    "    Y = (X * β .- eps) .> 0\n",
    "    return (Y,X)\n",
    "end\n",
    "\n",
    "function log_likelihood(n,Y,X,β,Fϵ)\n",
    "    @views xb = dot(X[n,:],β)\n",
    "    if Y[n]==1\n",
    "        return log(cdf(Fϵ,xb))\n",
    "    else\n",
    "        return log(1-cdf(Fϵ,xb))\n",
    "    end\n",
    "end\n",
    "\n",
    "function log_likelihood(Y,X,β)\n",
    "    ll = 0.\n",
    "    N = length(Y)\n",
    "    Fϵ = Normal()\n",
    "    for n in eachindex(Y)\n",
    "        ll += log_likelihood(n,Y,X,β,Fϵ)\n",
    "    end\n",
    "    return ll / N\n",
    "end"
   ]
  },
  {
   "cell_type": "markdown",
   "metadata": {},
   "source": [
    "## A Warning when Using Automatic Differentiation\n",
    "\n",
    "For simple models you are unlikely to run into this issue, but for more complicated models you need to be careful when pre-allocating arrays in functions that you plan to differentiate \"automatically\". Here is an example. Suppose we write the following function to get the reduced form coefficients $\\beta$ as a function of $\\gamma$:"
   ]
  },
  {
   "cell_type": "code",
   "execution_count": 33,
   "metadata": {},
   "outputs": [
    {
     "data": {
      "text/plain": [
       "get_β_stupid (generic function with 1 method)"
      ]
     },
     "execution_count": 33,
     "metadata": {},
     "output_type": "execute_result"
    }
   ],
   "source": [
    "function get_β_stupid(γ)\n",
    "    β = zeros(3)\n",
    "    β[1] = exp(γ[1]+γ[2])\n",
    "    β[2] = γ[2]\n",
    "    β[3] = γ[1]\n",
    "    return β\n",
    "end"
   ]
  },
  {
   "cell_type": "markdown",
   "metadata": {},
   "source": [
    "Let's see what happens when we try to take the derivative of the log-likelihood with respect to $\\gamma$ using this function:"
   ]
  },
  {
   "cell_type": "code",
   "execution_count": 34,
   "metadata": {},
   "outputs": [
    {
     "data": {
      "text/plain": [
       "-0.33713288149822374"
      ]
     },
     "execution_count": 34,
     "metadata": {},
     "output_type": "execute_result"
    }
   ],
   "source": [
    "γ = [0.,0.2]\n",
    "N = 200\n",
    "β = get_β_stupid(γ)\n",
    "Y,X = simulate_probit(β,N)\n",
    "\n",
    "L(γ) = log_likelihood(Y,X,get_β_stupid(γ))\n",
    "L(γ)\n"
   ]
  },
  {
   "cell_type": "code",
   "execution_count": 35,
   "metadata": {},
   "outputs": [
    {
     "ename": "LoadError",
     "evalue": "MethodError: no method matching Float64(::ForwardDiff.Dual{ForwardDiff.Tag{typeof(L), Float64}, Float64, 2})\n\u001b[0mClosest candidates are:\n\u001b[0m  (::Type{T})(::Real, \u001b[91m::RoundingMode\u001b[39m) where T<:AbstractFloat at rounding.jl:200\n\u001b[0m  (::Type{T})(::T) where T<:Number at boot.jl:772\n\u001b[0m  (::Type{T})(\u001b[91m::AbstractChar\u001b[39m) where T<:Union{AbstractChar, Number} at char.jl:50\n\u001b[0m  ...",
     "output_type": "error",
     "traceback": [
      "MethodError: no method matching Float64(::ForwardDiff.Dual{ForwardDiff.Tag{typeof(L), Float64}, Float64, 2})\n\u001b[0mClosest candidates are:\n\u001b[0m  (::Type{T})(::Real, \u001b[91m::RoundingMode\u001b[39m) where T<:AbstractFloat at rounding.jl:200\n\u001b[0m  (::Type{T})(::T) where T<:Number at boot.jl:772\n\u001b[0m  (::Type{T})(\u001b[91m::AbstractChar\u001b[39m) where T<:Union{AbstractChar, Number} at char.jl:50\n\u001b[0m  ...",
      "",
      "Stacktrace:",
      " [1] convert(#unused#::Type{Float64}, x::ForwardDiff.Dual{ForwardDiff.Tag{typeof(L), Float64}, Float64, 2})",
      "   @ Base ./number.jl:7",
      " [2] setindex!(A::Vector{Float64}, x::ForwardDiff.Dual{ForwardDiff.Tag{typeof(L), Float64}, Float64, 2}, i1::Int64)",
      "   @ Base ./array.jl:966",
      " [3] get_β_stupid(γ::Vector{ForwardDiff.Dual{ForwardDiff.Tag{typeof(L), Float64}, Float64, 2}})",
      "   @ Main ./In[33]:3",
      " [4] L(γ::Vector{ForwardDiff.Dual{ForwardDiff.Tag{typeof(L), Float64}, Float64, 2}})",
      "   @ Main ./In[34]:6",
      " [5] vector_mode_dual_eval!(f::typeof(L), cfg::ForwardDiff.GradientConfig{ForwardDiff.Tag{typeof(L), Float64}, Float64, 2, Vector{ForwardDiff.Dual{ForwardDiff.Tag{typeof(L), Float64}, Float64, 2}}}, x::Vector{Float64})",
      "   @ ForwardDiff ~/.julia/packages/ForwardDiff/vXysl/src/apiutils.jl:24",
      " [6] vector_mode_gradient(f::typeof(L), x::Vector{Float64}, cfg::ForwardDiff.GradientConfig{ForwardDiff.Tag{typeof(L), Float64}, Float64, 2, Vector{ForwardDiff.Dual{ForwardDiff.Tag{typeof(L), Float64}, Float64, 2}}})",
      "   @ ForwardDiff ~/.julia/packages/ForwardDiff/vXysl/src/gradient.jl:89",
      " [7] gradient(f::Function, x::Vector{Float64}, cfg::ForwardDiff.GradientConfig{ForwardDiff.Tag{typeof(L), Float64}, Float64, 2, Vector{ForwardDiff.Dual{ForwardDiff.Tag{typeof(L), Float64}, Float64, 2}}}, ::Val{true})",
      "   @ ForwardDiff ~/.julia/packages/ForwardDiff/vXysl/src/gradient.jl:19",
      " [8] gradient(f::Function, x::Vector{Float64}, cfg::ForwardDiff.GradientConfig{ForwardDiff.Tag{typeof(L), Float64}, Float64, 2, Vector{ForwardDiff.Dual{ForwardDiff.Tag{typeof(L), Float64}, Float64, 2}}}) (repeats 2 times)",
      "   @ ForwardDiff ~/.julia/packages/ForwardDiff/vXysl/src/gradient.jl:17",
      " [9] top-level scope",
      "   @ In[35]:1"
     ]
    }
   ],
   "source": [
    "dL = ForwardDiff.gradient(L,γ)"
   ]
  },
  {
   "cell_type": "markdown",
   "metadata": {},
   "source": [
    "Ok, we get an error! Why? When we pre-allocated the array $\\beta$ in the function `get_β_stupid`, using the `zeros` function, this asserts that the vector can only hold `Float64` variables. When `ForwardDiff` attempts to take the derivative, it instead passes arguments that have a special `Dual` type that cannot be converted to a float. Here are two workarounds for this problem:"
   ]
  },
  {
   "cell_type": "code",
   "execution_count": 37,
   "metadata": {},
   "outputs": [
    {
     "data": {
      "text/plain": [
       "1×2 Matrix{Float64}:\n",
       " -0.337133  -0.337133"
      ]
     },
     "execution_count": 37,
     "metadata": {},
     "output_type": "execute_result"
    }
   ],
   "source": [
    "function get_β_sensible(γ)\n",
    "    β = zeros(eltype(γ),3) #<- we let the array take the same type as the argument γ\n",
    "    β[1] = exp(γ[1]+γ[2])\n",
    "    β[2] = γ[2]\n",
    "    β[3] = γ[1]\n",
    "    return β\n",
    "end\n",
    "\n",
    "function get_β_also_sensible(γ)\n",
    "    return [exp(γ[1]+γ[2]) γ[2] γ[1]]\n",
    "end\n",
    "\n",
    "L(γ) = log_likelihood(Y,X,get_β_sensible(γ))\n",
    "L2(γ) = log_likelihood(Y,X,get_β_also_sensible(γ))\n",
    "[L(γ) L2(γ)]\n"
   ]
  },
  {
   "cell_type": "code",
   "execution_count": 38,
   "metadata": {},
   "outputs": [
    {
     "data": {
      "text/plain": [
       "2×2 Matrix{Float64}:\n",
       " 0.0175352  0.0175352\n",
       " 0.024424   0.024424"
      ]
     },
     "execution_count": 38,
     "metadata": {},
     "output_type": "execute_result"
    }
   ],
   "source": [
    "[ForwardDiff.gradient(L,γ) ForwardDiff.gradient(L2,γ)]"
   ]
  },
  {
   "cell_type": "markdown",
   "metadata": {},
   "source": [
    "So now we have something we can pass to the optimizer and there will be no drama when taking derivatives."
   ]
  },
  {
   "cell_type": "code",
   "execution_count": 45,
   "metadata": {},
   "outputs": [
    {
     "name": "stdout",
     "output_type": "stream",
     "text": [
      "Iter     Function value   Gradient norm \n",
      "     0     3.436787e-01     1.513857e-02\n",
      " * time: 5.0067901611328125e-5\n",
      "     1     3.435150e-01     1.481243e-04\n",
      " * time: 0.0008308887481689453\n",
      "     2     3.435149e-01     5.684522e-09\n",
      " * time: 0.0011279582977294922\n"
     ]
    },
    {
     "data": {
      "text/plain": [
       "2-element Vector{Float64}:\n",
       " -0.004991197627244919\n",
       "  0.22372487257130555"
      ]
     },
     "execution_count": 45,
     "metadata": {},
     "output_type": "execute_result"
    }
   ],
   "source": [
    "N = 2_000\n",
    "Y,X = simulate_probit(β,N)\n",
    "r = optimize(x->-log_likelihood(Y,X,get_β_sensible(x)),γ,Newton(),autodiff=:forward,Optim.Options(show_trace=true))\n",
    "γ_est = r.minimizer\n",
    "γ_est\n"
   ]
  },
  {
   "cell_type": "markdown",
   "metadata": {},
   "source": [
    "## Estimating standard errors\n",
    "\n",
    "In class we saw that for maximum likelihood:\n",
    "\n",
    "$$ \\sqrt{N}(\\hat{\\theta}-\\theta_{0}) \\rightarrow_{d} \\mathcal{N}(0,-\\mathbb{E}H(w,\\theta_{0})^{-1}) $$\n",
    "\n",
    "or alternatively:\n",
    "\n",
    "$$ \\sqrt{N}(\\hat{\\theta}-\\theta_{0}) \\rightarrow_{d} \\mathcal{N}(0,\\mathbb{E}[s(w,\\theta_{0})s(w,\\theta_{0})^{T}]^{-1}) $$\n",
    "\n",
    "We can calculate standard errors by estimating either term. In the first case we just take the hessian of the average log-likelihood at the estimate. In the second we calculate the sample covariance of the score at the estimate. The law of large numbers guarantees that either approach is consistent.\n"
   ]
  },
  {
   "cell_type": "code",
   "execution_count": 60,
   "metadata": {},
   "outputs": [
    {
     "data": {
      "text/plain": [
       "2×2 Matrix{Float64}:\n",
       "  1.64561  -1.02332\n",
       " -1.02332   2.00287"
      ]
     },
     "execution_count": 60,
     "metadata": {},
     "output_type": "execute_result"
    }
   ],
   "source": [
    "# using the Hessian\n",
    "H = ForwardDiff.hessian(x->log_likelihood(Y,X,get_β_sensible(x)),γ_est)\n",
    "avar_est = -inv(H) "
   ]
  },
  {
   "cell_type": "code",
   "execution_count": 61,
   "metadata": {},
   "outputs": [
    {
     "data": {
      "text/plain": [
       "2×2 Matrix{Float64}:\n",
       "  1.64537   -0.964128\n",
       " -0.964128   1.89245"
      ]
     },
     "execution_count": 61,
     "metadata": {},
     "output_type": "execute_result"
    }
   ],
   "source": [
    "# using the score\n",
    "\n",
    "S = hcat((ForwardDiff.gradient(x->log_likelihood(n,Y,X,get_β_sensible(x),Normal()),γ_est) for n in 1:N)...)\n",
    "avar_est_2 = inv(cov(S'))"
   ]
  },
  {
   "cell_type": "markdown",
   "metadata": {},
   "source": [
    "Notice that the estimates are close to each other but not identical. They are only exactly equal in the population limit. To get standard errors, we note that $\\hat{\\theta}$ is going to be approximately normally distributed around $\\theta$ with variance equal to the asymptotic variance *divided by $N$*. So for example the standard errors for $\\gamma$ are:"
   ]
  },
  {
   "cell_type": "code",
   "execution_count": 62,
   "metadata": {},
   "outputs": [
    {
     "data": {
      "text/plain": [
       "2-element Vector{Float64}:\n",
       " 0.02868456117694807\n",
       " 0.03164541875055554"
      ]
     },
     "execution_count": 62,
     "metadata": {},
     "output_type": "execute_result"
    }
   ],
   "source": [
    "se = sqrt.(diag(avar_est / N))"
   ]
  },
  {
   "cell_type": "markdown",
   "metadata": {},
   "source": [
    "## Monte-Carlo Validation\n",
    "\n",
    "Let's validate the estimates using a monte-carlo simulation:"
   ]
  },
  {
   "cell_type": "code",
   "execution_count": 71,
   "metadata": {},
   "outputs": [
    {
     "data": {
      "text/plain": [
       "2-element Vector{Float64}:\n",
       " 0.02941598344758601\n",
       " 0.03372272126529965"
      ]
     },
     "execution_count": 71,
     "metadata": {},
     "output_type": "execute_result"
    }
   ],
   "source": [
    "function monte_carlo(num_trials,γ,N)\n",
    "    γ_sim = zeros(2,num_trials)\n",
    "    for b in axes(γ_sim,2)\n",
    "        Y,X = simulate_probit(β,N)\n",
    "        r = optimize(x->-log_likelihood(Y,X,get_β_sensible(x)),γ,Newton(),autodiff=:forward)\n",
    "        γ_sim[:,b] = r.minimizer\n",
    "    end\n",
    "    return γ_sim\n",
    "end\n",
    "γ_sim = monte_carlo(200,γ,N)\n",
    "var_sim = cov(γ_sim')\n",
    "se_sim = sqrt.(diag(var_sim))"
   ]
  },
  {
   "cell_type": "markdown",
   "metadata": {},
   "source": [
    "## Additional Exercises\n",
    "\n",
    "Some questions for you to ponder.\n",
    "\n",
    "### Exercise 1 \n",
    "Suppose you estimate the $\\beta$ parameters directly. It would be simple enough to do here. How you could you then back out estimates of $\\gamma$ that would give you the same asymptotic variance as maximum likelihood? We will see how to do this when we study **Optimal Minimum Distance**\n",
    "\n",
    "### Exercise 2 \n",
    "Suppose we keep the same data-generating process, but that we **misspecify** the model as:\n",
    "$$ \\beta = [\\gamma_{1}+\\gamma_{2},\\ \\gamma_{1},\\ \\gamma_{2}] $$ \n",
    "The monte-carlo simulation below shows that the estimates of this misspecified model are still approximately normal. Which assumption is now violated and what formula for the asymptotic variance should we use instead?"
   ]
  },
  {
   "cell_type": "code",
   "execution_count": 76,
   "metadata": {},
   "outputs": [
    {
     "data": {
      "image/svg+xml": "<?xml version=\"1.0\" encoding=\"utf-8\"?>\n<svg xmlns=\"http://www.w3.org/2000/svg\" xmlns:xlink=\"http://www.w3.org/1999/xlink\" width=\"600\" height=\"400\" viewBox=\"0 0 2400 1600\">\n<defs>\n  <clipPath id=\"clip000\">\n    <rect x=\"0\" y=\"0\" width=\"2400\" height=\"1600\"/>\n  </clipPath>\n</defs>\n<path clip-path=\"url(#clip000)\" d=\"M0 1600 L2400 1600 L2400 0 L0 0  Z\" fill=\"#ffffff\" fill-rule=\"evenodd\" fill-opacity=\"1\"/>\n<defs>\n  <clipPath id=\"clip001\">\n    <rect x=\"480\" y=\"0\" width=\"1681\" height=\"1600\"/>\n  </clipPath>\n</defs>\n<path clip-path=\"url(#clip000)\" d=\"M141.853 1486.45 L2352.76 1486.45 L2352.76 47.2441 L141.853 47.2441  Z\" fill=\"#ffffff\" fill-rule=\"evenodd\" fill-opacity=\"1\"/>\n<defs>\n  <clipPath id=\"clip002\">\n    <rect x=\"141\" y=\"47\" width=\"2212\" height=\"1440\"/>\n  </clipPath>\n</defs>\n<polyline clip-path=\"url(#clip002)\" style=\"stroke:#000000; stroke-linecap:round; stroke-linejoin:round; stroke-width:2; stroke-opacity:0.1; fill:none\" points=\"460.226,1486.45 460.226,47.2441 \"/>\n<polyline clip-path=\"url(#clip002)\" style=\"stroke:#000000; stroke-linecap:round; stroke-linejoin:round; stroke-width:2; stroke-opacity:0.1; fill:none\" points=\"952.15,1486.45 952.15,47.2441 \"/>\n<polyline clip-path=\"url(#clip002)\" style=\"stroke:#000000; stroke-linecap:round; stroke-linejoin:round; stroke-width:2; stroke-opacity:0.1; fill:none\" points=\"1444.07,1486.45 1444.07,47.2441 \"/>\n<polyline clip-path=\"url(#clip002)\" style=\"stroke:#000000; stroke-linecap:round; stroke-linejoin:round; stroke-width:2; stroke-opacity:0.1; fill:none\" points=\"1936,1486.45 1936,47.2441 \"/>\n<polyline clip-path=\"url(#clip000)\" style=\"stroke:#000000; stroke-linecap:round; stroke-linejoin:round; stroke-width:4; stroke-opacity:1; fill:none\" points=\"141.853,1486.45 2352.76,1486.45 \"/>\n<polyline clip-path=\"url(#clip000)\" style=\"stroke:#000000; stroke-linecap:round; stroke-linejoin:round; stroke-width:4; stroke-opacity:1; fill:none\" points=\"460.226,1486.45 460.226,1467.55 \"/>\n<polyline clip-path=\"url(#clip000)\" style=\"stroke:#000000; stroke-linecap:round; stroke-linejoin:round; stroke-width:4; stroke-opacity:1; fill:none\" points=\"952.15,1486.45 952.15,1467.55 \"/>\n<polyline clip-path=\"url(#clip000)\" style=\"stroke:#000000; stroke-linecap:round; stroke-linejoin:round; stroke-width:4; stroke-opacity:1; fill:none\" points=\"1444.07,1486.45 1444.07,1467.55 \"/>\n<polyline clip-path=\"url(#clip000)\" style=\"stroke:#000000; stroke-linecap:round; stroke-linejoin:round; stroke-width:4; stroke-opacity:1; fill:none\" points=\"1936,1486.45 1936,1467.55 \"/>\n<path clip-path=\"url(#clip000)\" d=\"M422.53 1517.37 Q418.918 1517.37 417.09 1520.93 Q415.284 1524.47 415.284 1531.6 Q415.284 1538.71 417.09 1542.27 Q418.918 1545.82 422.53 1545.82 Q426.164 1545.82 427.969 1542.27 Q429.798 1538.71 429.798 1531.6 Q429.798 1524.47 427.969 1520.93 Q426.164 1517.37 422.53 1517.37 M422.53 1513.66 Q428.34 1513.66 431.395 1518.27 Q434.474 1522.85 434.474 1531.6 Q434.474 1540.33 431.395 1544.94 Q428.34 1549.52 422.53 1549.52 Q416.719 1549.52 413.641 1544.94 Q410.585 1540.33 410.585 1531.6 Q410.585 1522.85 413.641 1518.27 Q416.719 1513.66 422.53 1513.66 Z\" fill=\"#000000\" fill-rule=\"nonzero\" fill-opacity=\"1\" /><path clip-path=\"url(#clip000)\" d=\"M442.691 1542.97 L447.576 1542.97 L447.576 1548.85 L442.691 1548.85 L442.691 1542.97 Z\" fill=\"#000000\" fill-rule=\"nonzero\" fill-opacity=\"1\" /><path clip-path=\"url(#clip000)\" d=\"M471.927 1530.21 Q475.284 1530.93 477.159 1533.2 Q479.057 1535.47 479.057 1538.8 Q479.057 1543.92 475.539 1546.72 Q472.02 1549.52 465.539 1549.52 Q463.363 1549.52 461.048 1549.08 Q458.756 1548.66 456.303 1547.81 L456.303 1543.29 Q458.247 1544.43 460.562 1545.01 Q462.877 1545.58 465.4 1545.58 Q469.798 1545.58 472.089 1543.85 Q474.404 1542.11 474.404 1538.8 Q474.404 1535.75 472.252 1534.03 Q470.122 1532.3 466.302 1532.3 L462.275 1532.3 L462.275 1528.45 L466.488 1528.45 Q469.937 1528.45 471.765 1527.09 Q473.594 1525.7 473.594 1523.11 Q473.594 1520.45 471.696 1519.03 Q469.821 1517.6 466.302 1517.6 Q464.381 1517.6 462.182 1518.01 Q459.983 1518.43 457.344 1519.31 L457.344 1515.14 Q460.006 1514.4 462.321 1514.03 Q464.659 1513.66 466.719 1513.66 Q472.043 1513.66 475.145 1516.09 Q478.247 1518.5 478.247 1522.62 Q478.247 1525.49 476.603 1527.48 Q474.96 1529.45 471.927 1530.21 Z\" fill=\"#000000\" fill-rule=\"nonzero\" fill-opacity=\"1\" /><path clip-path=\"url(#clip000)\" d=\"M497.923 1517.37 Q494.312 1517.37 492.483 1520.93 Q490.677 1524.47 490.677 1531.6 Q490.677 1538.71 492.483 1542.27 Q494.312 1545.82 497.923 1545.82 Q501.557 1545.82 503.362 1542.27 Q505.191 1538.71 505.191 1531.6 Q505.191 1524.47 503.362 1520.93 Q501.557 1517.37 497.923 1517.37 M497.923 1513.66 Q503.733 1513.66 506.788 1518.27 Q509.867 1522.85 509.867 1531.6 Q509.867 1540.33 506.788 1544.94 Q503.733 1549.52 497.923 1549.52 Q492.113 1549.52 489.034 1544.94 Q485.978 1540.33 485.978 1531.6 Q485.978 1522.85 489.034 1518.27 Q492.113 1513.66 497.923 1513.66 Z\" fill=\"#000000\" fill-rule=\"nonzero\" fill-opacity=\"1\" /><path clip-path=\"url(#clip000)\" d=\"M914.951 1517.37 Q911.34 1517.37 909.511 1520.93 Q907.706 1524.47 907.706 1531.6 Q907.706 1538.71 909.511 1542.27 Q911.34 1545.82 914.951 1545.82 Q918.585 1545.82 920.391 1542.27 Q922.22 1538.71 922.22 1531.6 Q922.22 1524.47 920.391 1520.93 Q918.585 1517.37 914.951 1517.37 M914.951 1513.66 Q920.761 1513.66 923.817 1518.27 Q926.896 1522.85 926.896 1531.6 Q926.896 1540.33 923.817 1544.94 Q920.761 1549.52 914.951 1549.52 Q909.141 1549.52 906.062 1544.94 Q903.007 1540.33 903.007 1531.6 Q903.007 1522.85 906.062 1518.27 Q909.141 1513.66 914.951 1513.66 Z\" fill=\"#000000\" fill-rule=\"nonzero\" fill-opacity=\"1\" /><path clip-path=\"url(#clip000)\" d=\"M935.113 1542.97 L939.997 1542.97 L939.997 1548.85 L935.113 1548.85 L935.113 1542.97 Z\" fill=\"#000000\" fill-rule=\"nonzero\" fill-opacity=\"1\" /><path clip-path=\"url(#clip000)\" d=\"M964.349 1530.21 Q967.706 1530.93 969.581 1533.2 Q971.479 1535.47 971.479 1538.8 Q971.479 1543.92 967.96 1546.72 Q964.442 1549.52 957.96 1549.52 Q955.784 1549.52 953.469 1549.08 Q951.178 1548.66 948.724 1547.81 L948.724 1543.29 Q950.669 1544.43 952.983 1545.01 Q955.298 1545.58 957.821 1545.58 Q962.219 1545.58 964.511 1543.85 Q966.826 1542.11 966.826 1538.8 Q966.826 1535.75 964.673 1534.03 Q962.544 1532.3 958.724 1532.3 L954.696 1532.3 L954.696 1528.45 L958.909 1528.45 Q962.358 1528.45 964.187 1527.09 Q966.016 1525.7 966.016 1523.11 Q966.016 1520.45 964.118 1519.03 Q962.243 1517.6 958.724 1517.6 Q956.803 1517.6 954.604 1518.01 Q952.405 1518.43 949.766 1519.31 L949.766 1515.14 Q952.428 1514.4 954.743 1514.03 Q957.081 1513.66 959.141 1513.66 Q964.465 1513.66 967.567 1516.09 Q970.668 1518.5 970.668 1522.62 Q970.668 1525.49 969.025 1527.48 Q967.381 1529.45 964.349 1530.21 Z\" fill=\"#000000\" fill-rule=\"nonzero\" fill-opacity=\"1\" /><path clip-path=\"url(#clip000)\" d=\"M980.391 1514.29 L998.747 1514.29 L998.747 1518.22 L984.673 1518.22 L984.673 1526.7 Q985.692 1526.35 986.71 1526.19 Q987.729 1526 988.747 1526 Q994.534 1526 997.914 1529.17 Q1001.29 1532.34 1001.29 1537.76 Q1001.29 1543.34 997.821 1546.44 Q994.349 1549.52 988.029 1549.52 Q985.854 1549.52 983.585 1549.15 Q981.34 1548.78 978.932 1548.04 L978.932 1543.34 Q981.016 1544.47 983.238 1545.03 Q985.46 1545.58 987.937 1545.58 Q991.942 1545.58 994.279 1543.48 Q996.617 1541.37 996.617 1537.76 Q996.617 1534.15 994.279 1532.04 Q991.942 1529.94 987.937 1529.94 Q986.062 1529.94 984.187 1530.35 Q982.335 1530.77 980.391 1531.65 L980.391 1514.29 Z\" fill=\"#000000\" fill-rule=\"nonzero\" fill-opacity=\"1\" /><path clip-path=\"url(#clip000)\" d=\"M1406.38 1517.37 Q1402.77 1517.37 1400.94 1520.93 Q1399.13 1524.47 1399.13 1531.6 Q1399.13 1538.71 1400.94 1542.27 Q1402.77 1545.82 1406.38 1545.82 Q1410.01 1545.82 1411.82 1542.27 Q1413.65 1538.71 1413.65 1531.6 Q1413.65 1524.47 1411.82 1520.93 Q1410.01 1517.37 1406.38 1517.37 M1406.38 1513.66 Q1412.19 1513.66 1415.24 1518.27 Q1418.32 1522.85 1418.32 1531.6 Q1418.32 1540.33 1415.24 1544.94 Q1412.19 1549.52 1406.38 1549.52 Q1400.57 1549.52 1397.49 1544.94 Q1394.43 1540.33 1394.43 1531.6 Q1394.43 1522.85 1397.49 1518.27 Q1400.57 1513.66 1406.38 1513.66 Z\" fill=\"#000000\" fill-rule=\"nonzero\" fill-opacity=\"1\" /><path clip-path=\"url(#clip000)\" d=\"M1426.54 1542.97 L1431.42 1542.97 L1431.42 1548.85 L1426.54 1548.85 L1426.54 1542.97 Z\" fill=\"#000000\" fill-rule=\"nonzero\" fill-opacity=\"1\" /><path clip-path=\"url(#clip000)\" d=\"M1454.46 1518.36 L1442.65 1536.81 L1454.46 1536.81 L1454.46 1518.36 M1453.23 1514.29 L1459.11 1514.29 L1459.11 1536.81 L1464.04 1536.81 L1464.04 1540.7 L1459.11 1540.7 L1459.11 1548.85 L1454.46 1548.85 L1454.46 1540.7 L1438.85 1540.7 L1438.85 1536.19 L1453.23 1514.29 Z\" fill=\"#000000\" fill-rule=\"nonzero\" fill-opacity=\"1\" /><path clip-path=\"url(#clip000)\" d=\"M1481.77 1517.37 Q1478.16 1517.37 1476.33 1520.93 Q1474.53 1524.47 1474.53 1531.6 Q1474.53 1538.71 1476.33 1542.27 Q1478.16 1545.82 1481.77 1545.82 Q1485.4 1545.82 1487.21 1542.27 Q1489.04 1538.71 1489.04 1531.6 Q1489.04 1524.47 1487.21 1520.93 Q1485.4 1517.37 1481.77 1517.37 M1481.77 1513.66 Q1487.58 1513.66 1490.64 1518.27 Q1493.71 1522.85 1493.71 1531.6 Q1493.71 1540.33 1490.64 1544.94 Q1487.58 1549.52 1481.77 1549.52 Q1475.96 1549.52 1472.88 1544.94 Q1469.83 1540.33 1469.83 1531.6 Q1469.83 1522.85 1472.88 1518.27 Q1475.96 1513.66 1481.77 1513.66 Z\" fill=\"#000000\" fill-rule=\"nonzero\" fill-opacity=\"1\" /><path clip-path=\"url(#clip000)\" d=\"M1898.8 1517.37 Q1895.19 1517.37 1893.36 1520.93 Q1891.55 1524.47 1891.55 1531.6 Q1891.55 1538.71 1893.36 1542.27 Q1895.19 1545.82 1898.8 1545.82 Q1902.43 1545.82 1904.24 1542.27 Q1906.07 1538.71 1906.07 1531.6 Q1906.07 1524.47 1904.24 1520.93 Q1902.43 1517.37 1898.8 1517.37 M1898.8 1513.66 Q1904.61 1513.66 1907.66 1518.27 Q1910.74 1522.85 1910.74 1531.6 Q1910.74 1540.33 1907.66 1544.94 Q1904.61 1549.52 1898.8 1549.52 Q1892.99 1549.52 1889.91 1544.94 Q1886.85 1540.33 1886.85 1531.6 Q1886.85 1522.85 1889.91 1518.27 Q1892.99 1513.66 1898.8 1513.66 Z\" fill=\"#000000\" fill-rule=\"nonzero\" fill-opacity=\"1\" /><path clip-path=\"url(#clip000)\" d=\"M1918.96 1542.97 L1923.85 1542.97 L1923.85 1548.85 L1918.96 1548.85 L1918.96 1542.97 Z\" fill=\"#000000\" fill-rule=\"nonzero\" fill-opacity=\"1\" /><path clip-path=\"url(#clip000)\" d=\"M1946.88 1518.36 L1935.07 1536.81 L1946.88 1536.81 L1946.88 1518.36 M1945.65 1514.29 L1951.53 1514.29 L1951.53 1536.81 L1956.46 1536.81 L1956.46 1540.7 L1951.53 1540.7 L1951.53 1548.85 L1946.88 1548.85 L1946.88 1540.7 L1931.28 1540.7 L1931.28 1536.19 L1945.65 1514.29 Z\" fill=\"#000000\" fill-rule=\"nonzero\" fill-opacity=\"1\" /><path clip-path=\"url(#clip000)\" d=\"M1964.24 1514.29 L1982.59 1514.29 L1982.59 1518.22 L1968.52 1518.22 L1968.52 1526.7 Q1969.54 1526.35 1970.56 1526.19 Q1971.58 1526 1972.59 1526 Q1978.38 1526 1981.76 1529.17 Q1985.14 1532.34 1985.14 1537.76 Q1985.14 1543.34 1981.67 1546.44 Q1978.2 1549.52 1971.88 1549.52 Q1969.7 1549.52 1967.43 1549.15 Q1965.19 1548.78 1962.78 1548.04 L1962.78 1543.34 Q1964.86 1544.47 1967.09 1545.03 Q1969.31 1545.58 1971.78 1545.58 Q1975.79 1545.58 1978.13 1543.48 Q1980.47 1541.37 1980.47 1537.76 Q1980.47 1534.15 1978.13 1532.04 Q1975.79 1529.94 1971.78 1529.94 Q1969.91 1529.94 1968.03 1530.35 Q1966.18 1530.77 1964.24 1531.65 L1964.24 1514.29 Z\" fill=\"#000000\" fill-rule=\"nonzero\" fill-opacity=\"1\" /><polyline clip-path=\"url(#clip002)\" style=\"stroke:#000000; stroke-linecap:round; stroke-linejoin:round; stroke-width:2; stroke-opacity:0.1; fill:none\" points=\"141.853,1445.72 2352.76,1445.72 \"/>\n<polyline clip-path=\"url(#clip002)\" style=\"stroke:#000000; stroke-linecap:round; stroke-linejoin:round; stroke-width:2; stroke-opacity:0.1; fill:none\" points=\"141.853,1174.17 2352.76,1174.17 \"/>\n<polyline clip-path=\"url(#clip002)\" style=\"stroke:#000000; stroke-linecap:round; stroke-linejoin:round; stroke-width:2; stroke-opacity:0.1; fill:none\" points=\"141.853,902.62 2352.76,902.62 \"/>\n<polyline clip-path=\"url(#clip002)\" style=\"stroke:#000000; stroke-linecap:round; stroke-linejoin:round; stroke-width:2; stroke-opacity:0.1; fill:none\" points=\"141.853,631.072 2352.76,631.072 \"/>\n<polyline clip-path=\"url(#clip002)\" style=\"stroke:#000000; stroke-linecap:round; stroke-linejoin:round; stroke-width:2; stroke-opacity:0.1; fill:none\" points=\"141.853,359.524 2352.76,359.524 \"/>\n<polyline clip-path=\"url(#clip002)\" style=\"stroke:#000000; stroke-linecap:round; stroke-linejoin:round; stroke-width:2; stroke-opacity:0.1; fill:none\" points=\"141.853,87.9763 2352.76,87.9763 \"/>\n<polyline clip-path=\"url(#clip000)\" style=\"stroke:#000000; stroke-linecap:round; stroke-linejoin:round; stroke-width:4; stroke-opacity:1; fill:none\" points=\"141.853,1486.45 141.853,47.2441 \"/>\n<polyline clip-path=\"url(#clip000)\" style=\"stroke:#000000; stroke-linecap:round; stroke-linejoin:round; stroke-width:4; stroke-opacity:1; fill:none\" points=\"141.853,1445.72 160.751,1445.72 \"/>\n<polyline clip-path=\"url(#clip000)\" style=\"stroke:#000000; stroke-linecap:round; stroke-linejoin:round; stroke-width:4; stroke-opacity:1; fill:none\" points=\"141.853,1174.17 160.751,1174.17 \"/>\n<polyline clip-path=\"url(#clip000)\" style=\"stroke:#000000; stroke-linecap:round; stroke-linejoin:round; stroke-width:4; stroke-opacity:1; fill:none\" points=\"141.853,902.62 160.751,902.62 \"/>\n<polyline clip-path=\"url(#clip000)\" style=\"stroke:#000000; stroke-linecap:round; stroke-linejoin:round; stroke-width:4; stroke-opacity:1; fill:none\" points=\"141.853,631.072 160.751,631.072 \"/>\n<polyline clip-path=\"url(#clip000)\" style=\"stroke:#000000; stroke-linecap:round; stroke-linejoin:round; stroke-width:4; stroke-opacity:1; fill:none\" points=\"141.853,359.524 160.751,359.524 \"/>\n<polyline clip-path=\"url(#clip000)\" style=\"stroke:#000000; stroke-linecap:round; stroke-linejoin:round; stroke-width:4; stroke-opacity:1; fill:none\" points=\"141.853,87.9763 160.751,87.9763 \"/>\n<path clip-path=\"url(#clip000)\" d=\"M93.9086 1431.51 Q90.2975 1431.51 88.4688 1435.08 Q86.6632 1438.62 86.6632 1445.75 Q86.6632 1452.86 88.4688 1456.42 Q90.2975 1459.96 93.9086 1459.96 Q97.5428 1459.96 99.3483 1456.42 Q101.177 1452.86 101.177 1445.75 Q101.177 1438.62 99.3483 1435.08 Q97.5428 1431.51 93.9086 1431.51 M93.9086 1427.81 Q99.7187 1427.81 102.774 1432.42 Q105.853 1437 105.853 1445.75 Q105.853 1454.48 102.774 1459.08 Q99.7187 1463.67 93.9086 1463.67 Q88.0984 1463.67 85.0197 1459.08 Q81.9642 1454.48 81.9642 1445.75 Q81.9642 1437 85.0197 1432.42 Q88.0984 1427.81 93.9086 1427.81 Z\" fill=\"#000000\" fill-rule=\"nonzero\" fill-opacity=\"1\" /><path clip-path=\"url(#clip000)\" d=\"M54.5569 1187.51 L62.1958 1187.51 L62.1958 1161.15 L53.8856 1162.81 L53.8856 1158.55 L62.1495 1156.89 L66.8254 1156.89 L66.8254 1187.51 L74.4642 1187.51 L74.4642 1191.45 L54.5569 1191.45 L54.5569 1187.51 Z\" fill=\"#000000\" fill-rule=\"nonzero\" fill-opacity=\"1\" /><path clip-path=\"url(#clip000)\" d=\"M93.9086 1159.97 Q90.2975 1159.97 88.4688 1163.53 Q86.6632 1167.07 86.6632 1174.2 Q86.6632 1181.31 88.4688 1184.87 Q90.2975 1188.42 93.9086 1188.42 Q97.5428 1188.42 99.3483 1184.87 Q101.177 1181.31 101.177 1174.2 Q101.177 1167.07 99.3483 1163.53 Q97.5428 1159.97 93.9086 1159.97 M93.9086 1156.26 Q99.7187 1156.26 102.774 1160.87 Q105.853 1165.45 105.853 1174.2 Q105.853 1182.93 102.774 1187.54 Q99.7187 1192.12 93.9086 1192.12 Q88.0984 1192.12 85.0197 1187.54 Q81.9642 1182.93 81.9642 1174.2 Q81.9642 1165.45 85.0197 1160.87 Q88.0984 1156.26 93.9086 1156.26 Z\" fill=\"#000000\" fill-rule=\"nonzero\" fill-opacity=\"1\" /><path clip-path=\"url(#clip000)\" d=\"M57.7745 915.965 L74.0939 915.965 L74.0939 919.9 L52.1495 919.9 L52.1495 915.965 Q54.8115 913.21 59.3949 908.581 Q64.0013 903.928 65.1819 902.585 Q67.4272 900.062 68.3068 898.326 Q69.2096 896.567 69.2096 894.877 Q69.2096 892.122 67.2652 890.386 Q65.3439 888.65 62.2421 888.65 Q60.043 888.65 57.5893 889.414 Q55.1588 890.178 52.381 891.729 L52.381 887.007 Q55.2051 885.872 57.6588 885.294 Q60.1124 884.715 62.1495 884.715 Q67.5198 884.715 70.7142 887.4 Q73.9087 890.085 73.9087 894.576 Q73.9087 896.706 73.0985 898.627 Q72.3115 900.525 70.205 903.118 Q69.6263 903.789 66.5245 907.006 Q63.4226 910.201 57.7745 915.965 Z\" fill=\"#000000\" fill-rule=\"nonzero\" fill-opacity=\"1\" /><path clip-path=\"url(#clip000)\" d=\"M93.9086 888.419 Q90.2975 888.419 88.4688 891.983 Q86.6632 895.525 86.6632 902.655 Q86.6632 909.761 88.4688 913.326 Q90.2975 916.868 93.9086 916.868 Q97.5428 916.868 99.3483 913.326 Q101.177 909.761 101.177 902.655 Q101.177 895.525 99.3483 891.983 Q97.5428 888.419 93.9086 888.419 M93.9086 884.715 Q99.7187 884.715 102.774 889.321 Q105.853 893.905 105.853 902.655 Q105.853 911.381 102.774 915.988 Q99.7187 920.571 93.9086 920.571 Q88.0984 920.571 85.0197 915.988 Q81.9642 911.381 81.9642 902.655 Q81.9642 893.905 85.0197 889.321 Q88.0984 884.715 93.9086 884.715 Z\" fill=\"#000000\" fill-rule=\"nonzero\" fill-opacity=\"1\" /><path clip-path=\"url(#clip000)\" d=\"M67.9133 629.718 Q71.2698 630.435 73.1448 632.704 Q75.0429 634.972 75.0429 638.306 Q75.0429 643.422 71.5244 646.222 Q68.0059 649.023 61.5245 649.023 Q59.3486 649.023 57.0338 648.584 Q54.7421 648.167 52.2884 647.31 L52.2884 642.797 Q54.2328 643.931 56.5477 644.509 Q58.8625 645.088 61.3856 645.088 Q65.7837 645.088 68.0754 643.352 Q70.3902 641.616 70.3902 638.306 Q70.3902 635.25 68.2374 633.537 Q66.1078 631.801 62.2884 631.801 L58.2606 631.801 L58.2606 627.959 L62.4735 627.959 Q65.9226 627.959 67.7513 626.593 Q69.58 625.204 69.58 622.611 Q69.58 619.949 67.6819 618.537 Q65.8069 617.102 62.2884 617.102 Q60.3671 617.102 58.168 617.519 Q55.969 617.936 53.3301 618.815 L53.3301 614.649 Q55.9921 613.908 58.3069 613.537 Q60.6449 613.167 62.705 613.167 Q68.0291 613.167 71.1309 615.598 Q74.2327 618.005 74.2327 622.125 Q74.2327 624.996 72.5892 626.986 Q70.9457 628.954 67.9133 629.718 Z\" fill=\"#000000\" fill-rule=\"nonzero\" fill-opacity=\"1\" /><path clip-path=\"url(#clip000)\" d=\"M93.9086 616.871 Q90.2975 616.871 88.4688 620.436 Q86.6632 623.977 86.6632 631.107 Q86.6632 638.213 88.4688 641.778 Q90.2975 645.32 93.9086 645.32 Q97.5428 645.32 99.3483 641.778 Q101.177 638.213 101.177 631.107 Q101.177 623.977 99.3483 620.436 Q97.5428 616.871 93.9086 616.871 M93.9086 613.167 Q99.7187 613.167 102.774 617.774 Q105.853 622.357 105.853 631.107 Q105.853 639.834 102.774 644.44 Q99.7187 649.023 93.9086 649.023 Q88.0984 649.023 85.0197 644.44 Q81.9642 639.834 81.9642 631.107 Q81.9642 622.357 85.0197 617.774 Q88.0984 613.167 93.9086 613.167 Z\" fill=\"#000000\" fill-rule=\"nonzero\" fill-opacity=\"1\" /><path clip-path=\"url(#clip000)\" d=\"M66.5939 346.318 L54.7884 364.767 L66.5939 364.767 L66.5939 346.318 M65.367 342.244 L71.2466 342.244 L71.2466 364.767 L76.1772 364.767 L76.1772 368.656 L71.2466 368.656 L71.2466 376.804 L66.5939 376.804 L66.5939 368.656 L50.9921 368.656 L50.9921 364.142 L65.367 342.244 Z\" fill=\"#000000\" fill-rule=\"nonzero\" fill-opacity=\"1\" /><path clip-path=\"url(#clip000)\" d=\"M93.9086 345.323 Q90.2975 345.323 88.4688 348.888 Q86.6632 352.429 86.6632 359.559 Q86.6632 366.665 88.4688 370.23 Q90.2975 373.772 93.9086 373.772 Q97.5428 373.772 99.3483 370.23 Q101.177 366.665 101.177 359.559 Q101.177 352.429 99.3483 348.888 Q97.5428 345.323 93.9086 345.323 M93.9086 341.619 Q99.7187 341.619 102.774 346.226 Q105.853 350.809 105.853 359.559 Q105.853 368.286 102.774 372.892 Q99.7187 377.475 93.9086 377.475 Q88.0984 377.475 85.0197 372.892 Q81.9642 368.286 81.9642 359.559 Q81.9642 350.809 85.0197 346.226 Q88.0984 341.619 93.9086 341.619 Z\" fill=\"#000000\" fill-rule=\"nonzero\" fill-opacity=\"1\" /><path clip-path=\"url(#clip000)\" d=\"M53.793 70.6963 L72.1494 70.6963 L72.1494 74.6314 L58.0754 74.6314 L58.0754 83.1036 Q59.0939 82.7564 60.1124 82.5944 Q61.131 82.4092 62.1495 82.4092 Q67.9365 82.4092 71.3161 85.5805 Q74.6957 88.7517 74.6957 94.1684 Q74.6957 99.747 71.2235 102.849 Q67.7513 105.928 61.4319 105.928 Q59.256 105.928 56.9875 105.557 Q54.7421 105.187 52.3347 104.446 L52.3347 99.747 Q54.418 100.881 56.6402 101.437 Q58.8625 101.992 61.3393 101.992 Q65.3439 101.992 67.6819 99.8859 Q70.0198 97.7795 70.0198 94.1684 Q70.0198 90.5573 67.6819 88.4508 Q65.3439 86.3443 61.3393 86.3443 Q59.4643 86.3443 57.5893 86.761 Q55.7375 87.1777 53.793 88.0573 L53.793 70.6963 Z\" fill=\"#000000\" fill-rule=\"nonzero\" fill-opacity=\"1\" /><path clip-path=\"url(#clip000)\" d=\"M93.9086 73.775 Q90.2975 73.775 88.4688 77.3398 Q86.6632 80.8814 86.6632 88.011 Q86.6632 95.1174 88.4688 98.6822 Q90.2975 102.224 93.9086 102.224 Q97.5428 102.224 99.3483 98.6822 Q101.177 95.1174 101.177 88.011 Q101.177 80.8814 99.3483 77.3398 Q97.5428 73.775 93.9086 73.775 M93.9086 70.0713 Q99.7187 70.0713 102.774 74.6777 Q105.853 79.261 105.853 88.011 Q105.853 96.7378 102.774 101.344 Q99.7187 105.928 93.9086 105.928 Q88.0984 105.928 85.0197 101.344 Q81.9642 96.7378 81.9642 88.011 Q81.9642 79.261 85.0197 74.6777 Q88.0984 70.0713 93.9086 70.0713 Z\" fill=\"#000000\" fill-rule=\"nonzero\" fill-opacity=\"1\" /><path clip-path=\"url(#clip002)\" d=\"M263.457 1418.56 L263.457 1445.72 L460.226 1445.72 L460.226 1418.56 L263.457 1418.56 L263.457 1418.56  Z\" fill=\"#009af9\" fill-rule=\"evenodd\" fill-opacity=\"1\"/>\n<polyline clip-path=\"url(#clip002)\" style=\"stroke:#000000; stroke-linecap:round; stroke-linejoin:round; stroke-width:4; stroke-opacity:1; fill:none\" points=\"263.457,1418.56 263.457,1445.72 460.226,1445.72 460.226,1418.56 263.457,1418.56 \"/>\n<path clip-path=\"url(#clip002)\" d=\"M460.226 1364.25 L460.226 1445.72 L656.996 1445.72 L656.996 1364.25 L460.226 1364.25 L460.226 1364.25  Z\" fill=\"#009af9\" fill-rule=\"evenodd\" fill-opacity=\"1\"/>\n<polyline clip-path=\"url(#clip002)\" style=\"stroke:#000000; stroke-linecap:round; stroke-linejoin:round; stroke-width:4; stroke-opacity:1; fill:none\" points=\"460.226,1364.25 460.226,1445.72 656.996,1445.72 656.996,1364.25 460.226,1364.25 \"/>\n<path clip-path=\"url(#clip002)\" d=\"M656.996 1119.86 L656.996 1445.72 L853.765 1445.72 L853.765 1119.86 L656.996 1119.86 L656.996 1119.86  Z\" fill=\"#009af9\" fill-rule=\"evenodd\" fill-opacity=\"1\"/>\n<polyline clip-path=\"url(#clip002)\" style=\"stroke:#000000; stroke-linecap:round; stroke-linejoin:round; stroke-width:4; stroke-opacity:1; fill:none\" points=\"656.996,1119.86 656.996,1445.72 853.765,1445.72 853.765,1119.86 656.996,1119.86 \"/>\n<path clip-path=\"url(#clip002)\" d=\"M853.765 712.536 L853.765 1445.72 L1050.53 1445.72 L1050.53 712.536 L853.765 712.536 L853.765 712.536  Z\" fill=\"#009af9\" fill-rule=\"evenodd\" fill-opacity=\"1\"/>\n<polyline clip-path=\"url(#clip002)\" style=\"stroke:#000000; stroke-linecap:round; stroke-linejoin:round; stroke-width:4; stroke-opacity:1; fill:none\" points=\"853.765,712.536 853.765,1445.72 1050.53,1445.72 1050.53,712.536 853.765,712.536 \"/>\n<path clip-path=\"url(#clip002)\" d=\"M1050.53 87.9763 L1050.53 1445.72 L1247.3 1445.72 L1247.3 87.9763 L1050.53 87.9763 L1050.53 87.9763  Z\" fill=\"#009af9\" fill-rule=\"evenodd\" fill-opacity=\"1\"/>\n<polyline clip-path=\"url(#clip002)\" style=\"stroke:#000000; stroke-linecap:round; stroke-linejoin:round; stroke-width:4; stroke-opacity:1; fill:none\" points=\"1050.53,87.9763 1050.53,1445.72 1247.3,1445.72 1247.3,87.9763 1050.53,87.9763 \"/>\n<path clip-path=\"url(#clip002)\" d=\"M1247.3 305.215 L1247.3 1445.72 L1444.07 1445.72 L1444.07 305.215 L1247.3 305.215 L1247.3 305.215  Z\" fill=\"#009af9\" fill-rule=\"evenodd\" fill-opacity=\"1\"/>\n<polyline clip-path=\"url(#clip002)\" style=\"stroke:#000000; stroke-linecap:round; stroke-linejoin:round; stroke-width:4; stroke-opacity:1; fill:none\" points=\"1247.3,305.215 1247.3,1445.72 1444.07,1445.72 1444.07,305.215 1247.3,305.215 \"/>\n<path clip-path=\"url(#clip002)\" d=\"M1444.07 495.298 L1444.07 1445.72 L1640.84 1445.72 L1640.84 495.298 L1444.07 495.298 L1444.07 495.298  Z\" fill=\"#009af9\" fill-rule=\"evenodd\" fill-opacity=\"1\"/>\n<polyline clip-path=\"url(#clip002)\" style=\"stroke:#000000; stroke-linecap:round; stroke-linejoin:round; stroke-width:4; stroke-opacity:1; fill:none\" points=\"1444.07,495.298 1444.07,1445.72 1640.84,1445.72 1640.84,495.298 1444.07,495.298 \"/>\n<path clip-path=\"url(#clip002)\" d=\"M1640.84 875.465 L1640.84 1445.72 L1837.61 1445.72 L1837.61 875.465 L1640.84 875.465 L1640.84 875.465  Z\" fill=\"#009af9\" fill-rule=\"evenodd\" fill-opacity=\"1\"/>\n<polyline clip-path=\"url(#clip002)\" style=\"stroke:#000000; stroke-linecap:round; stroke-linejoin:round; stroke-width:4; stroke-opacity:1; fill:none\" points=\"1640.84,875.465 1640.84,1445.72 1837.61,1445.72 1837.61,875.465 1640.84,875.465 \"/>\n<path clip-path=\"url(#clip002)\" d=\"M1837.61 1255.63 L1837.61 1445.72 L2034.38 1445.72 L2034.38 1255.63 L1837.61 1255.63 L1837.61 1255.63  Z\" fill=\"#009af9\" fill-rule=\"evenodd\" fill-opacity=\"1\"/>\n<polyline clip-path=\"url(#clip002)\" style=\"stroke:#000000; stroke-linecap:round; stroke-linejoin:round; stroke-width:4; stroke-opacity:1; fill:none\" points=\"1837.61,1255.63 1837.61,1445.72 2034.38,1445.72 2034.38,1255.63 1837.61,1255.63 \"/>\n<path clip-path=\"url(#clip002)\" d=\"M2034.38 1391.41 L2034.38 1445.72 L2231.15 1445.72 L2231.15 1391.41 L2034.38 1391.41 L2034.38 1391.41  Z\" fill=\"#009af9\" fill-rule=\"evenodd\" fill-opacity=\"1\"/>\n<polyline clip-path=\"url(#clip002)\" style=\"stroke:#000000; stroke-linecap:round; stroke-linejoin:round; stroke-width:4; stroke-opacity:1; fill:none\" points=\"2034.38,1391.41 2034.38,1445.72 2231.15,1445.72 2231.15,1391.41 2034.38,1391.41 \"/>\n<circle clip-path=\"url(#clip002)\" style=\"fill:#009af9; stroke:none; fill-opacity:0\" cx=\"361.841\" cy=\"1418.56\" r=\"2\"/>\n<circle clip-path=\"url(#clip002)\" style=\"fill:#009af9; stroke:none; fill-opacity:0\" cx=\"558.611\" cy=\"1364.25\" r=\"2\"/>\n<circle clip-path=\"url(#clip002)\" style=\"fill:#009af9; stroke:none; fill-opacity:0\" cx=\"755.38\" cy=\"1119.86\" r=\"2\"/>\n<circle clip-path=\"url(#clip002)\" style=\"fill:#009af9; stroke:none; fill-opacity:0\" cx=\"952.15\" cy=\"712.536\" r=\"2\"/>\n<circle clip-path=\"url(#clip002)\" style=\"fill:#009af9; stroke:none; fill-opacity:0\" cx=\"1148.92\" cy=\"87.9763\" r=\"2\"/>\n<circle clip-path=\"url(#clip002)\" style=\"fill:#009af9; stroke:none; fill-opacity:0\" cx=\"1345.69\" cy=\"305.215\" r=\"2\"/>\n<circle clip-path=\"url(#clip002)\" style=\"fill:#009af9; stroke:none; fill-opacity:0\" cx=\"1542.46\" cy=\"495.298\" r=\"2\"/>\n<circle clip-path=\"url(#clip002)\" style=\"fill:#009af9; stroke:none; fill-opacity:0\" cx=\"1739.23\" cy=\"875.465\" r=\"2\"/>\n<circle clip-path=\"url(#clip002)\" style=\"fill:#009af9; stroke:none; fill-opacity:0\" cx=\"1936\" cy=\"1255.63\" r=\"2\"/>\n<circle clip-path=\"url(#clip002)\" style=\"fill:#009af9; stroke:none; fill-opacity:0\" cx=\"2132.77\" cy=\"1391.41\" r=\"2\"/>\n<path clip-path=\"url(#clip000)\" d=\"M2005.54 198.898 L2279.06 198.898 L2279.06 95.2176 L2005.54 95.2176  Z\" fill=\"#ffffff\" fill-rule=\"evenodd\" fill-opacity=\"1\"/>\n<polyline clip-path=\"url(#clip000)\" style=\"stroke:#000000; stroke-linecap:round; stroke-linejoin:round; stroke-width:4; stroke-opacity:1; fill:none\" points=\"2005.54,198.898 2279.06,198.898 2279.06,95.2176 2005.54,95.2176 2005.54,198.898 \"/>\n<path clip-path=\"url(#clip000)\" d=\"M2030.1 167.794 L2177.5 167.794 L2177.5 126.322 L2030.1 126.322 L2030.1 167.794  Z\" fill=\"#009af9\" fill-rule=\"evenodd\" fill-opacity=\"1\"/>\n<polyline clip-path=\"url(#clip000)\" style=\"stroke:#000000; stroke-linecap:round; stroke-linejoin:round; stroke-width:4; stroke-opacity:1; fill:none\" points=\"2030.1,167.794 2177.5,167.794 2177.5,126.322 2030.1,126.322 2030.1,167.794 \"/>\n<path clip-path=\"url(#clip000)\" d=\"M2215.91 166.745 Q2214.1 171.375 2212.39 172.787 Q2210.67 174.199 2207.8 174.199 L2204.4 174.199 L2204.4 170.634 L2206.9 170.634 Q2208.66 170.634 2209.63 169.8 Q2210.6 168.967 2211.79 165.865 L2212.55 163.921 L2202.06 138.412 L2206.58 138.412 L2214.68 158.689 L2222.78 138.412 L2227.29 138.412 L2215.91 166.745 Z\" fill=\"#000000\" fill-rule=\"nonzero\" fill-opacity=\"1\" /><path clip-path=\"url(#clip000)\" d=\"M2234.59 160.402 L2242.23 160.402 L2242.23 134.037 L2233.91 135.703 L2233.91 131.444 L2242.18 129.778 L2246.85 129.778 L2246.85 160.402 L2254.49 160.402 L2254.49 164.338 L2234.59 164.338 L2234.59 160.402 Z\" fill=\"#000000\" fill-rule=\"nonzero\" fill-opacity=\"1\" /></svg>\n"
     },
     "execution_count": 76,
     "metadata": {},
     "output_type": "execute_result"
    }
   ],
   "source": [
    "get_β_misspecified(γ) = [γ[1]+γ[2],γ[2],γ[1]]\n",
    "\n",
    "function monte_carlo_misspecified(num_trials,γ,N)\n",
    "    γ_sim = zeros(2,num_trials)\n",
    "    for b in axes(γ_sim,2)\n",
    "        Y,X = simulate_probit(β,N)\n",
    "        r = optimize(x->-log_likelihood(Y,X,get_β_misspecified(x)),γ,Newton(),autodiff=:forward)\n",
    "        γ_sim[:,b] = r.minimizer\n",
    "    end\n",
    "    return γ_sim\n",
    "end\n",
    "γ_sim = monte_carlo_misspecified(200,γ,N)\n",
    "histogram(γ_sim[1,:])"
   ]
  }
 ],
 "metadata": {
  "kernelspec": {
   "display_name": "Julia 1.8.1",
   "language": "julia",
   "name": "julia-1.8"
  },
  "language_info": {
   "file_extension": ".jl",
   "mimetype": "application/julia",
   "name": "julia",
   "version": "1.8.1"
  },
  "orig_nbformat": 4,
  "vscode": {
   "interpreter": {
    "hash": "31f2aee4e71d21fbe5cf8b01ff0e069b9275f58929596ceb00d14d90e3e16cd6"
   }
  }
 },
 "nbformat": 4,
 "nbformat_minor": 2
}
