{
 "cells": [
  {
   "cell_type": "markdown",
   "metadata": {},
   "source": [
    "# Assignment 2: Setup for Estimating a Search Model\n",
    "\n",
    "## Setup:\n",
    "\n",
    "Consider the following extension of the undirected search model. Let $X_{n}$ be a vector of demographics for person $n$:\n",
    "\n",
    "$$ X_{n} = [1,\\ C_{n},\\ F_{n},\\ R_{n}] $$\n",
    "\n",
    "where $C_{n}$ is a dummy variable that indicates if an individual has a college degree, $F_{n}$ is a dummy variable indicating that an individual is female, and $R_{n}$ is a dummy that indicates if person $n$ reports their race as not \"white\". Define a new set of parameters that depend on these observables:\n",
    "\n",
    "- The flow value of unemployment is $b(X) = X\\beta_{b}$\n",
    "- The probability of job destruction is \n",
    "$$ \\delta(X) = \\frac{\\exp(X\\gamma_{\\delta})}{1+\\exp(X\\gamma_{\\delta})} $$\n",
    "- The probability of a job offer is\n",
    "$$ \\lambda(X) = \\frac{\\exp(X\\gamma_{\\lambda})}{1+\\exp(X\\gamma_{\\lambda})} $$\n",
    "- $\\beta$ takes a value of 0.995.\n",
    "- Wage offers are drawn from a log normal distribution with mean $\\mu(X) = X\\gamma_{\\mu}$ and standard deviation $\\sigma(X) = \\exp(X\\gamma_{\\sigma})$\n",
    "- Log wages are observed with measurement error:\n",
    "$$ \\log(W^{o}_{n}) = \\log(W_{n}) + \\zeta_{n} $$\n",
    "where $\\zeta_{n}\\sim\\mathcal{N}(0,\\sigma^2_{\\zeta})$.\n",
    "\n",
    "So the parameters of the model are:\n",
    "\n",
    "$$ \\theta = (\\gamma_{b},\\gamma_{\\delta},\\gamma_{\\lambda},\\gamma_{\\mu},\\gamma_{\\sigma},\\sigma^2_{\\zeta}) $$\n",
    "\n",
    "We are going to estimate this model on CPS data. Here is code to import the data and impute wages for workers who are not paid by the hour. This code also limits to observations in January so that it is a single cross-section, although you could choose a different month if you wanted. I also convert weekly unemployment durations to monthly.\n"
   ]
  },
  {
   "cell_type": "code",
   "execution_count": 32,
   "metadata": {},
   "outputs": [
    {
     "data": {
      "text/html": [
       "<div><div style = \"float: left;\"><span>61364×7 DataFrame</span></div><div style = \"float: right;\"><span style = \"font-style: italic;\">61339 rows omitted</span></div><div style = \"clear: both;\"></div></div><div class = \"data-frame\" style = \"overflow-x: scroll;\"><table class = \"data-frame\" style = \"margin-bottom: 6px;\"><thead><tr class = \"header\"><th class = \"rowNumber\" style = \"font-weight: bold; text-align: right;\">Row</th><th style = \"text-align: left;\">AGE</th><th style = \"text-align: left;\">SEX</th><th style = \"text-align: left;\">RACE</th><th style = \"text-align: left;\">EDUC</th><th style = \"text-align: left;\">wage</th><th style = \"text-align: left;\">E</th><th style = \"text-align: left;\">DURUNEMP</th></tr><tr class = \"subheader headerLastRow\"><th class = \"rowNumber\" style = \"font-weight: bold; text-align: right;\"></th><th title = \"Int64\" style = \"text-align: left;\">Int64</th><th title = \"Int64\" style = \"text-align: left;\">Int64</th><th title = \"Int64\" style = \"text-align: left;\">Int64</th><th title = \"Int64\" style = \"text-align: left;\">Int64</th><th title = \"Union{Missing, Float64}\" style = \"text-align: left;\">Float64?</th><th title = \"Bool\" style = \"text-align: left;\">Bool</th><th title = \"Float64\" style = \"text-align: left;\">Float64</th></tr></thead><tbody><tr><td class = \"rowNumber\" style = \"font-weight: bold; text-align: right;\">1</td><td style = \"text-align: right;\">72</td><td style = \"text-align: right;\">1</td><td style = \"text-align: right;\">100</td><td style = \"text-align: right;\">81</td><td style = \"font-style: italic; text-align: right;\">missing</td><td style = \"text-align: right;\">true</td><td style = \"text-align: right;\">231.0</td></tr><tr><td class = \"rowNumber\" style = \"font-weight: bold; text-align: right;\">2</td><td style = \"text-align: right;\">66</td><td style = \"text-align: right;\">1</td><td style = \"text-align: right;\">100</td><td style = \"text-align: right;\">111</td><td style = \"font-style: italic; text-align: right;\">missing</td><td style = \"text-align: right;\">true</td><td style = \"text-align: right;\">231.0</td></tr><tr><td class = \"rowNumber\" style = \"font-weight: bold; text-align: right;\">3</td><td style = \"text-align: right;\">61</td><td style = \"text-align: right;\">2</td><td style = \"text-align: right;\">100</td><td style = \"text-align: right;\">111</td><td style = \"font-style: italic; text-align: right;\">missing</td><td style = \"text-align: right;\">true</td><td style = \"text-align: right;\">231.0</td></tr><tr><td class = \"rowNumber\" style = \"font-weight: bold; text-align: right;\">4</td><td style = \"text-align: right;\">52</td><td style = \"text-align: right;\">2</td><td style = \"text-align: right;\">200</td><td style = \"text-align: right;\">73</td><td style = \"text-align: right;\">20.84</td><td style = \"text-align: right;\">true</td><td style = \"text-align: right;\">231.0</td></tr><tr><td class = \"rowNumber\" style = \"font-weight: bold; text-align: right;\">5</td><td style = \"text-align: right;\">19</td><td style = \"text-align: right;\">2</td><td style = \"text-align: right;\">200</td><td style = \"text-align: right;\">73</td><td style = \"text-align: right;\">10.0</td><td style = \"text-align: right;\">true</td><td style = \"text-align: right;\">231.0</td></tr><tr><td class = \"rowNumber\" style = \"font-weight: bold; text-align: right;\">6</td><td style = \"text-align: right;\">56</td><td style = \"text-align: right;\">2</td><td style = \"text-align: right;\">200</td><td style = \"text-align: right;\">111</td><td style = \"text-align: right;\">25.0</td><td style = \"text-align: right;\">true</td><td style = \"text-align: right;\">231.0</td></tr><tr><td class = \"rowNumber\" style = \"font-weight: bold; text-align: right;\">7</td><td style = \"text-align: right;\">22</td><td style = \"text-align: right;\">2</td><td style = \"text-align: right;\">200</td><td style = \"text-align: right;\">81</td><td style = \"text-align: right;\">9.5</td><td style = \"text-align: right;\">true</td><td style = \"text-align: right;\">231.0</td></tr><tr><td class = \"rowNumber\" style = \"font-weight: bold; text-align: right;\">8</td><td style = \"text-align: right;\">23</td><td style = \"text-align: right;\">2</td><td style = \"text-align: right;\">100</td><td style = \"text-align: right;\">124</td><td style = \"font-style: italic; text-align: right;\">missing</td><td style = \"text-align: right;\">true</td><td style = \"text-align: right;\">231.0</td></tr><tr><td class = \"rowNumber\" style = \"font-weight: bold; text-align: right;\">9</td><td style = \"text-align: right;\">24</td><td style = \"text-align: right;\">2</td><td style = \"text-align: right;\">100</td><td style = \"text-align: right;\">124</td><td style = \"font-style: italic; text-align: right;\">missing</td><td style = \"text-align: right;\">true</td><td style = \"text-align: right;\">231.0</td></tr><tr><td class = \"rowNumber\" style = \"font-weight: bold; text-align: right;\">10</td><td style = \"text-align: right;\">59</td><td style = \"text-align: right;\">2</td><td style = \"text-align: right;\">200</td><td style = \"text-align: right;\">111</td><td style = \"font-style: italic; text-align: right;\">missing</td><td style = \"text-align: right;\">true</td><td style = \"text-align: right;\">231.0</td></tr><tr><td class = \"rowNumber\" style = \"font-weight: bold; text-align: right;\">11</td><td style = \"text-align: right;\">53</td><td style = \"text-align: right;\">1</td><td style = \"text-align: right;\">200</td><td style = \"text-align: right;\">81</td><td style = \"font-style: italic; text-align: right;\">missing</td><td style = \"text-align: right;\">true</td><td style = \"text-align: right;\">231.0</td></tr><tr><td class = \"rowNumber\" style = \"font-weight: bold; text-align: right;\">12</td><td style = \"text-align: right;\">24</td><td style = \"text-align: right;\">2</td><td style = \"text-align: right;\">200</td><td style = \"text-align: right;\">73</td><td style = \"font-style: italic; text-align: right;\">missing</td><td style = \"text-align: right;\">true</td><td style = \"text-align: right;\">231.0</td></tr><tr><td class = \"rowNumber\" style = \"font-weight: bold; text-align: right;\">13</td><td style = \"text-align: right;\">60</td><td style = \"text-align: right;\">1</td><td style = \"text-align: right;\">100</td><td style = \"text-align: right;\">124</td><td style = \"font-style: italic; text-align: right;\">missing</td><td style = \"text-align: right;\">true</td><td style = \"text-align: right;\">231.0</td></tr><tr><td style = \"text-align: right;\">&vellip;</td><td style = \"text-align: right;\">&vellip;</td><td style = \"text-align: right;\">&vellip;</td><td style = \"text-align: right;\">&vellip;</td><td style = \"text-align: right;\">&vellip;</td><td style = \"text-align: right;\">&vellip;</td><td style = \"text-align: right;\">&vellip;</td><td style = \"text-align: right;\">&vellip;</td></tr><tr><td class = \"rowNumber\" style = \"font-weight: bold; text-align: right;\">61353</td><td style = \"text-align: right;\">41</td><td style = \"text-align: right;\">1</td><td style = \"text-align: right;\">100</td><td style = \"text-align: right;\">111</td><td style = \"font-style: italic; text-align: right;\">missing</td><td style = \"text-align: right;\">true</td><td style = \"text-align: right;\">231.0</td></tr><tr><td class = \"rowNumber\" style = \"font-weight: bold; text-align: right;\">61354</td><td style = \"text-align: right;\">41</td><td style = \"text-align: right;\">2</td><td style = \"text-align: right;\">100</td><td style = \"text-align: right;\">73</td><td style = \"font-style: italic; text-align: right;\">missing</td><td style = \"text-align: right;\">true</td><td style = \"text-align: right;\">231.0</td></tr><tr><td class = \"rowNumber\" style = \"font-weight: bold; text-align: right;\">61355</td><td style = \"text-align: right;\">38</td><td style = \"text-align: right;\">1</td><td style = \"text-align: right;\">100</td><td style = \"text-align: right;\">73</td><td style = \"font-style: italic; text-align: right;\">missing</td><td style = \"text-align: right;\">true</td><td style = \"text-align: right;\">231.0</td></tr><tr><td class = \"rowNumber\" style = \"font-weight: bold; text-align: right;\">61356</td><td style = \"text-align: right;\">29</td><td style = \"text-align: right;\">2</td><td style = \"text-align: right;\">100</td><td style = \"text-align: right;\">73</td><td style = \"font-style: italic; text-align: right;\">missing</td><td style = \"text-align: right;\">true</td><td style = \"text-align: right;\">231.0</td></tr><tr><td class = \"rowNumber\" style = \"font-weight: bold; text-align: right;\">61357</td><td style = \"text-align: right;\">71</td><td style = \"text-align: right;\">2</td><td style = \"text-align: right;\">100</td><td style = \"text-align: right;\">73</td><td style = \"text-align: right;\">12.0</td><td style = \"text-align: right;\">true</td><td style = \"text-align: right;\">231.0</td></tr><tr><td class = \"rowNumber\" style = \"font-weight: bold; text-align: right;\">61358</td><td style = \"text-align: right;\">45</td><td style = \"text-align: right;\">1</td><td style = \"text-align: right;\">100</td><td style = \"text-align: right;\">92</td><td style = \"text-align: right;\">21.25</td><td style = \"text-align: right;\">true</td><td style = \"text-align: right;\">231.0</td></tr><tr><td class = \"rowNumber\" style = \"font-weight: bold; text-align: right;\">61359</td><td style = \"text-align: right;\">41</td><td style = \"text-align: right;\">1</td><td style = \"text-align: right;\">100</td><td style = \"text-align: right;\">73</td><td style = \"font-style: italic; text-align: right;\">missing</td><td style = \"text-align: right;\">true</td><td style = \"text-align: right;\">231.0</td></tr><tr><td class = \"rowNumber\" style = \"font-weight: bold; text-align: right;\">61360</td><td style = \"text-align: right;\">42</td><td style = \"text-align: right;\">1</td><td style = \"text-align: right;\">100</td><td style = \"text-align: right;\">111</td><td style = \"font-style: italic; text-align: right;\">missing</td><td style = \"text-align: right;\">true</td><td style = \"text-align: right;\">231.0</td></tr><tr><td class = \"rowNumber\" style = \"font-weight: bold; text-align: right;\">61361</td><td style = \"text-align: right;\">43</td><td style = \"text-align: right;\">2</td><td style = \"text-align: right;\">100</td><td style = \"text-align: right;\">123</td><td style = \"font-style: italic; text-align: right;\">missing</td><td style = \"text-align: right;\">true</td><td style = \"text-align: right;\">231.0</td></tr><tr><td class = \"rowNumber\" style = \"font-weight: bold; text-align: right;\">61362</td><td style = \"text-align: right;\">17</td><td style = \"text-align: right;\">1</td><td style = \"text-align: right;\">100</td><td style = \"text-align: right;\">60</td><td style = \"font-style: italic; text-align: right;\">missing</td><td style = \"text-align: right;\">true</td><td style = \"text-align: right;\">231.0</td></tr><tr><td class = \"rowNumber\" style = \"font-weight: bold; text-align: right;\">61363</td><td style = \"text-align: right;\">32</td><td style = \"text-align: right;\">2</td><td style = \"text-align: right;\">100</td><td style = \"text-align: right;\">81</td><td style = \"font-style: italic; text-align: right;\">missing</td><td style = \"text-align: right;\">true</td><td style = \"text-align: right;\">231.0</td></tr><tr><td class = \"rowNumber\" style = \"font-weight: bold; text-align: right;\">61364</td><td style = \"text-align: right;\">30</td><td style = \"text-align: right;\">2</td><td style = \"text-align: right;\">100</td><td style = \"text-align: right;\">81</td><td style = \"font-style: italic; text-align: right;\">missing</td><td style = \"text-align: right;\">true</td><td style = \"text-align: right;\">231.0</td></tr></tbody></table></div>"
      ],
      "text/latex": [
       "\\begin{tabular}{r|ccccccc}\n",
       "\t& AGE & SEX & RACE & EDUC & wage & E & DURUNEMP\\\\\n",
       "\t\\hline\n",
       "\t& Int64 & Int64 & Int64 & Int64 & Float64? & Bool & Float64\\\\\n",
       "\t\\hline\n",
       "\t1 & 72 & 1 & 100 & 81 & \\emph{missing} & 1 & 231.0 \\\\\n",
       "\t2 & 66 & 1 & 100 & 111 & \\emph{missing} & 1 & 231.0 \\\\\n",
       "\t3 & 61 & 2 & 100 & 111 & \\emph{missing} & 1 & 231.0 \\\\\n",
       "\t4 & 52 & 2 & 200 & 73 & 20.84 & 1 & 231.0 \\\\\n",
       "\t5 & 19 & 2 & 200 & 73 & 10.0 & 1 & 231.0 \\\\\n",
       "\t6 & 56 & 2 & 200 & 111 & 25.0 & 1 & 231.0 \\\\\n",
       "\t7 & 22 & 2 & 200 & 81 & 9.5 & 1 & 231.0 \\\\\n",
       "\t8 & 23 & 2 & 100 & 124 & \\emph{missing} & 1 & 231.0 \\\\\n",
       "\t9 & 24 & 2 & 100 & 124 & \\emph{missing} & 1 & 231.0 \\\\\n",
       "\t10 & 59 & 2 & 200 & 111 & \\emph{missing} & 1 & 231.0 \\\\\n",
       "\t11 & 53 & 1 & 200 & 81 & \\emph{missing} & 1 & 231.0 \\\\\n",
       "\t12 & 24 & 2 & 200 & 73 & \\emph{missing} & 1 & 231.0 \\\\\n",
       "\t13 & 60 & 1 & 100 & 124 & \\emph{missing} & 1 & 231.0 \\\\\n",
       "\t14 & 57 & 2 & 100 & 123 & \\emph{missing} & 1 & 231.0 \\\\\n",
       "\t15 & 50 & 2 & 200 & 73 & \\emph{missing} & 0 & 4.0 \\\\\n",
       "\t16 & 18 & 1 & 200 & 81 & \\emph{missing} & 1 & 231.0 \\\\\n",
       "\t17 & 29 & 1 & 200 & 50 & \\emph{missing} & 1 & 231.0 \\\\\n",
       "\t18 & 53 & 2 & 200 & 91 & \\emph{missing} & 1 & 231.0 \\\\\n",
       "\t19 & 48 & 1 & 100 & 73 & 17.0 & 1 & 231.0 \\\\\n",
       "\t20 & 59 & 1 & 200 & 50 & \\emph{missing} & 0 & 15.0 \\\\\n",
       "\t21 & 72 & 1 & 100 & 123 & \\emph{missing} & 1 & 231.0 \\\\\n",
       "\t22 & 72 & 2 & 100 & 123 & \\emph{missing} & 1 & 231.0 \\\\\n",
       "\t23 & 27 & 2 & 200 & 81 & \\emph{missing} & 0 & 1.0 \\\\\n",
       "\t24 & 27 & 1 & 200 & 81 & \\emph{missing} & 1 & 231.0 \\\\\n",
       "\t$\\dots$ & $\\dots$ & $\\dots$ & $\\dots$ & $\\dots$ & $\\dots$ & $\\dots$ & $\\dots$ \\\\\n",
       "\\end{tabular}\n"
      ],
      "text/plain": [
       "\u001b[1m61364×7 DataFrame\u001b[0m\n",
       "\u001b[1m   Row \u001b[0m│\u001b[1m AGE   \u001b[0m\u001b[1m SEX   \u001b[0m\u001b[1m RACE  \u001b[0m\u001b[1m EDUC  \u001b[0m\u001b[1m wage       \u001b[0m\u001b[1m E    \u001b[0m\u001b[1m DURUNEMP \u001b[0m\n",
       "       │\u001b[90m Int64 \u001b[0m\u001b[90m Int64 \u001b[0m\u001b[90m Int64 \u001b[0m\u001b[90m Int64 \u001b[0m\u001b[90m Float64?   \u001b[0m\u001b[90m Bool \u001b[0m\u001b[90m Float64  \u001b[0m\n",
       "───────┼────────────────────────────────────────────────────────\n",
       "     1 │    72      1    100     81 \u001b[90m missing    \u001b[0m true     231.0\n",
       "     2 │    66      1    100    111 \u001b[90m missing    \u001b[0m true     231.0\n",
       "     3 │    61      2    100    111 \u001b[90m missing    \u001b[0m true     231.0\n",
       "     4 │    52      2    200     73       20.84  true     231.0\n",
       "     5 │    19      2    200     73       10.0   true     231.0\n",
       "     6 │    56      2    200    111       25.0   true     231.0\n",
       "     7 │    22      2    200     81        9.5   true     231.0\n",
       "     8 │    23      2    100    124 \u001b[90m missing    \u001b[0m true     231.0\n",
       "   ⋮   │   ⋮      ⋮      ⋮      ⋮        ⋮        ⋮       ⋮\n",
       " 61358 │    45      1    100     92       21.25  true     231.0\n",
       " 61359 │    41      1    100     73 \u001b[90m missing    \u001b[0m true     231.0\n",
       " 61360 │    42      1    100    111 \u001b[90m missing    \u001b[0m true     231.0\n",
       " 61361 │    43      2    100    123 \u001b[90m missing    \u001b[0m true     231.0\n",
       " 61362 │    17      1    100     60 \u001b[90m missing    \u001b[0m true     231.0\n",
       " 61363 │    32      2    100     81 \u001b[90m missing    \u001b[0m true     231.0\n",
       " 61364 │    30      2    100     81 \u001b[90m missing    \u001b[0m true     231.0\n",
       "\u001b[36m                                              61349 rows omitted\u001b[0m"
      ]
     },
     "metadata": {},
     "output_type": "display_data"
    }
   ],
   "source": [
    "using CSV, DataFrames, DataFramesMeta, Statistics\n",
    "\n",
    "data = CSV.read(\"../data/cps_00019.csv\",DataFrame)\n",
    "data = @chain data begin\n",
    "    @transform :E = :EMPSTAT.<21\n",
    "    @transform @byrow :wage = begin\n",
    "        if :PAIDHOUR==0\n",
    "            return missing\n",
    "        elseif :PAIDHOUR==2\n",
    "            if :HOURWAGE<99.99 && :HOURWAGE>0\n",
    "                return :HOURWAGE\n",
    "            else\n",
    "                return missing\n",
    "            end\n",
    "        elseif :PAIDHOUR==1\n",
    "            if :EARNWEEK>0 && :UHRSWORKT.<997\n",
    "                return :EARNWEEK / :UHRSWORKT\n",
    "            else\n",
    "                return missing\n",
    "            end\n",
    "        end\n",
    "    end\n",
    "    @subset :MONTH.==1\n",
    "    @select :AGE :SEX :RACE :EDUC :wage :E :DURUNEMP\n",
    "    @transform :DURUNEMP = round.(:DURUNEMP .* 12/52) #<- we convert weekly unemployment durations to monthly since we have a monthly model\n",
    "end"
   ]
  },
  {
   "cell_type": "markdown",
   "metadata": {},
   "source": [
    "## Part 1\n",
    "\n",
    "Following your notes from class, write a function that, given a set of parameters, solves the reservation wage for each unique combination of the variables in $X$ (there are 8 total).\n",
    "\n",
    "## Part 2\n",
    "\n",
    "Write a function that takes a single observation from the cross-section and calculates the log-likelihood of that observation given the model solution, current parameters, and observables $X_{n}$.\n",
    "\n",
    "Show the output from a function call to prove that it works, then use the `@time` macro to test how long it takes.\n",
    "\n",
    "### Hint:\n",
    "\n",
    "Relative to your notes in class, you will need to integrate out the measurement error here for wages. Letting $\\phi(x;\\mu,\\sigma)$ be the normal pdf with mean $\\mu$ and standard error $\\sigma$, the likelihood of observing a wage $W^{o}$ will be:\n",
    "\n",
    "$$ f(W^{o}|E,X) = \\int_{w^*}\\frac{\\phi(\\log(w);\\mu(X),\\sigma(X))}{1-\\Phi(\\log(w^*);\\mu(X),\\sigma(X))}\\phi(\\log(W^{o})-w ; \\sigma_{\\zeta})dw $$\n",
    "\n",
    "You will want to use a package like `QuadGK` to evaluate this integral numerically.\n",
    "\n",
    "\n",
    "## Part 3 \n",
    "\n",
    "Write a function that iterates over every observation in the data and calculates the log-likelihood of the data given parameters.\n",
    "\n",
    "Show the output from a function call to prove that it works, then use the `@time` macro to test how long it takes.\n",
    "\n",
    "\n",
    "### Hint\n",
    "\n",
    "You may find that these functions work faster if you pull the data you need out of `DataFrame` format and save it as arrays or vectors with known type. For example, I would recommend creating a flag for missing wage data and a default value for those missing wages, and iterating over those objects:"
   ]
  },
  {
   "cell_type": "code",
   "execution_count": 44,
   "metadata": {},
   "outputs": [
    {
     "data": {
      "text/plain": [
       "(logwage = [0.0, 0.0, 0.0, 3.0368742168851663, 2.302585092994046, 3.2188758248682006, 2.2512917986064953, 0.0, 0.0, 0.0  …  0.0, 0.0, 2.4849066497880004, 3.056356895370426, 0.0, 0.0, 0.0, 0.0, 0.0, 0.0], wage_missing = Bool[1, 1, 1, 0, 0, 0, 0, 1, 1, 1  …  1, 1, 0, 0, 1, 1, 1, 1, 1, 1], E = Bool[1, 1, 1, 1, 1, 1, 1, 1, 1, 1  …  1, 1, 1, 1, 1, 1, 1, 1, 1, 1])"
      ]
     },
     "metadata": {},
     "output_type": "display_data"
    }
   ],
   "source": [
    "wage_missing = ismissing.(data.wage)\n",
    "wage = coalesce.(data.wage,1.)\n",
    "# creat a named tuple with all variables to conveniently pass to the log-likelihood:\n",
    "d = (;logwage = log.(wage),wage_missing,E = data.E) #<- you will need to add your demographics as well."
   ]
  },
  {
   "cell_type": "markdown",
   "metadata": {},
   "source": [
    "## A Disclaimer for IPUMS CPS data\n",
    "\n",
    "These data are a subsample of the IPUMS CPS data available from cps.ipums.org. Any use of these data should be cited as follows:\n",
    "\n",
    "  Sarah Flood, Miriam King, Renae Rodgers, Steven Ruggles, J. Robert Warren, Daniel Backman, Annie Chen, Grace Cooper, Stephanie Richards, Megan Schouweiler, and Michael Westberry. IPUMS CPS: Version 11.0 [dataset]. Minneapolis, MN: IPUMS, 2023. <https://doi.org/10.18128/D030.V11.0> \n",
    "\n",
    "The CPS data file is intended only for exercises as part of ECON8208. Individuals are not to redistribute the data without permission. Contact <ipums@umn.edu> for redistribution requests. For all other uses of these data, please access data directly via [cps.ipums.org](http://cps.ipums.org/).\n"
   ]
  }
 ],
 "metadata": {
  "kernelspec": {
   "display_name": "Julia 1.10.0",
   "language": "julia",
   "name": "julia-1.10"
  },
  "language_info": {
   "file_extension": ".jl",
   "mimetype": "application/julia",
   "name": "julia",
   "version": "1.10.0"
  }
 },
 "nbformat": 4,
 "nbformat_minor": 2
}
