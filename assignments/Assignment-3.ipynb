{
 "cells": [
  {
   "cell_type": "markdown",
   "metadata": {},
   "source": [
    "# Assignment 3: Estimating a Search Model\n",
    "\n",
    "You are going to build on the work you did last week so you will need all of that code.\n",
    "\n",
    "## Part 1\n",
    "\n",
    "Estimate the parameters of the model using maximum likelihood on a single month of the CPS data. You will find a package like `Optim` helpful.\n",
    "\n",
    "## Part 2\n",
    "\n",
    "Write code to calculate the standard errors and create a table that reports parameter estimates with standard errors. Remember from class that you can calculate standard errors two different ways with MLE."
   ]
  }
 ],
 "metadata": {
  "kernelspec": {
   "display_name": "Julia 1.10.0",
   "language": "julia",
   "name": "julia-1.10"
  },
  "language_info": {
   "file_extension": ".jl",
   "mimetype": "application/julia",
   "name": "julia",
   "version": "1.10.0"
  }
 },
 "nbformat": 4,
 "nbformat_minor": 2
}
