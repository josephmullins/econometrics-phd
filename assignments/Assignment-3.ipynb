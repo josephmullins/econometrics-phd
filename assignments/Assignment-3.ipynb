{
 "cells": [
  {
   "cell_type": "markdown",
   "metadata": {},
   "source": [
    "# Assignment 3: Estimating a Search Model\n",
    "\n",
    "In this homework you are going to estimate the parameters of the search model for each demographic group *individually*. That is, you will *not* impose the parametric restrictions that mapped demographics $X$ to deeper parameters using the $\\gamma$ vectors from last week.\n",
    "\n",
    "## Part 1\n",
    "\n",
    "Fix $\\sigma_\\zeta$ (the standard deviation of measurement error in log wages) to 0.05. Following your work from last week (and recitation this week)write a function that calculates the log-likelihood of a single month of data from the CPS given $(h,\\delta,\\mu,\\sigma,w^*)$ where $w^*$ is the reservation wage and $h = \\lambda\\times(1-F_{W}(w^*;\\mu,\\sigma))$.\n",
    "\n",
    "## Part 2\n",
    "\n",
    "Use the log-likelihood function to get maximum likelihood estimates of $(\\hat{h},\\hat{\\delta},\\hat{\\mu},\\hat{\\sigma},\\hat{w^*})$ for *white men with a college degree*.\n",
    "\n",
    "What is the advantage of estimating $h$ and $w^*$ directly instead of $\\lambda$ and $b$?\n",
    "\n",
    "## Part 3\n",
    "\n",
    "Back out the implied maximum likelihood estimates of $\\hat{\\lambda}$ and $\\hat{b}$ as a function of the estimated parameters from part (1).\n",
    "\n",
    "## Part 4\n",
    "\n",
    "Provide an estimate of the asymptotic variance of $(\\hat{h},\\hat{\\delta},\\hat{\\mu},\\hat{\\sigma},\\hat{w^*})$ using the standard MLE formula.\n",
    "\n",
    "## Part 5\n",
    "\n",
    "Recall that the delta method implies that if $\\hat{\\theta}$ is asymptotically normal with asymptotic variance $V$ then the vector-valued function $F(\\hat{\\theta})$ is also asymptotically normal with:\n",
    "\n",
    "$$ \\sqrt{N}(F(\\hat{\\theta}) - F(\\theta)) \\rightarrow_{d} \\mathcal{N}(0,\\nabla_{\\theta'}FV\\nabla_{\\theta}F') $$\n",
    "\n",
    "Use this fact to estimate the asymptotic variance of $(\\hat{h},\\hat{\\delta},\\hat{\\mu},\\hat{\\sigma},\\hat{w^*},\\hat{\\lambda},\\hat{b})$.\n",
    "\n",
    "## Part 6\n",
    "\n",
    "Now report all of your estimates and standard errors for this group. Repeat this exercise for each group.\n",
    "\n",
    "If we thought that the parametric relationships using $\\gamma$ from [Homework 2](/assignments/Assignment-2.ipynb) described the true values of the parameters for each group, how might we use these group-specific estimates to derive estimates of each $\\gamma$?"
   ]
  }
 ],
 "metadata": {
  "kernelspec": {
   "display_name": "Julia 1.10.0",
   "language": "julia",
   "name": "julia-1.10"
  },
  "language_info": {
   "file_extension": ".jl",
   "mimetype": "application/julia",
   "name": "julia",
   "version": "1.10.0"
  }
 },
 "nbformat": 4,
 "nbformat_minor": 2
}
